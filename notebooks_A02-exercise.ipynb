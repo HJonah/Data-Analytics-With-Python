{
  "metadata": {
    "language_info": {
      "codemirror_mode": {
        "name": "python",
        "version": 3
      },
      "file_extension": ".py",
      "mimetype": "text/x-python",
      "name": "python",
      "nbconvert_exporter": "python",
      "pygments_lexer": "ipython3",
      "version": "3.8"
    },
    "kernelspec": {
      "name": "python",
      "display_name": "Python (Pyodide)",
      "language": "python"
    }
  },
  "nbformat_minor": 4,
  "nbformat": 4,
  "cells": [
    {
      "cell_type": "markdown",
      "source": "# AFS 505: Module 1 Assignment 1 (JupyterLab)",
      "metadata": {}
    },
    {
      "cell_type": "markdown",
      "source": "Hi, **Jonah** here, this is **my** sentence with a few **bolded words**.",
      "metadata": {}
    },
    {
      "cell_type": "markdown",
      "source": "Now, it's *time* for the *sentence* with a few *italicized* words.",
      "metadata": {}
    },
    {
      "cell_type": "markdown",
      "source": "***Here is my text that is both italicized and bolded***.",
      "metadata": {
        "tags": []
      }
    },
    {
      "cell_type": "markdown",
      "source": "### My Hobbies\n\n- Reading\n    - Science fiction\n    - Historical fiction\n    - Fantasy\n- Outdoor activities\n    - Backpacking\n    - Camping\n    - Skiing\n    - Snowshoeing\n- Games\n    - Board games\n    - DnD campaigns",
      "metadata": {}
    },
    {
      "cell_type": "code",
      "source": "((225+37)/(5*5))-2",
      "metadata": {
        "tags": [],
        "trusted": true
      },
      "execution_count": 11,
      "outputs": [
        {
          "execution_count": 11,
          "output_type": "execute_result",
          "data": {
            "text/plain": "8.48"
          },
          "metadata": {}
        }
      ]
    },
    {
      "cell_type": "raw",
      "source": "((225+37)/(5*5))-2",
      "metadata": {}
    }
  ]
}