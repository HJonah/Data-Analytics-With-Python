{
 "cells": [
  {
   "cell_type": "markdown",
   "metadata": {},
   "source": [
    "# Assignment 1: NumPy Part 1\n"
   ]
  },
  {
   "cell_type": "markdown",
   "metadata": {},
   "source": [
    "## Learning Objectives\n",
    "This lesson meets the following learning objectives:\n",
    "\n",
    "- The ability to use Python data structures provided in NumPy."
   ]
  },
  {
   "cell_type": "markdown",
   "metadata": {},
   "source": [
    "## Instructions\n",
    "Read through all of the text in this page. This assignment provides step-by-step training divided into numbered sections. The sections often contain embeded exectable code for demonstration.  Section headers with icons have special meanings:  \n",
    "\n",
    "- <i class=\"fas fa-puzzle-piece\"></i> The puzzle icon indicates that the section provides a practice exercise that must be completed.  Follow the instructions for the exercise and do what it asks.  Exercises must be turned in for credit.\n",
    "- <i class=\"fa fa-cogs\"></i> The cogs icon indicates that the section provides a task to perform.  Follow the instructions to complete the task.  Tasks are not turned in for credit but must be completed to continue progress.\n",
    "\n",
    "Review the list of items in the **Expected Outcomes** section to check that you feel comfortable with the material you just learned. If you do not, then take some time to re-review that material again. If after re-review you are not comfortable, do not feel confident or do not understand the material, please ask questions on Slack to help.\n",
    "\n",
    "Follow the instructions in the **What to turn in** section to turn in the exercises of the assginment for course credit."
   ]
  },
  {
   "cell_type": "markdown",
   "metadata": {},
   "source": [
    "## Background\n",
    "This notebook is based on the official `NumPy` [documentation](https://docs.scipy.org/doc/numpy/user/quickstart.html).  Unless otherwise credited, quoted text comes from this document.  The Numpy documention describes NumPy in the following way:\n",
    "\n",
    "> NumPy is the fundamental package for scientific computing with Python. It contains among other things:\n",
    "> - a powerful N-dimensional array object\n",
    "> - sophisticated (broadcasting) functions\n",
    "> - tools for integrating C/C++ and Fortran code\n",
    "> - useful linear algebra, Fourier transform, and random number capabilities\n",
    ">\n",
    "> Besides its obvious scientific uses, NumPy can also be used as an efficient multi-dimensional container of generic data. Arbitrary data-types can be defined. This allows NumPy to seamlessly and speedily integrate with a wide variety of databases.\n"
   ]
  },
  {
   "cell_type": "markdown",
   "metadata": {},
   "source": [
    "## <i class=\"fa fa-cogs\"></i> Notebook Setup\n",
    "First, we must import the NumPy library.  All packages are imported at the top of the notebook. Execute the code in the following cell to get started with this notebook (type Ctrl+Enter in the cell below)"
   ]
  },
  {
   "cell_type": "code",
   "execution_count": 28,
   "metadata": {},
   "outputs": [],
   "source": [
    "# Import numpy\n",
    "import numpy as np"
   ]
  },
  {
   "cell_type": "markdown",
   "metadata": {},
   "source": [
    "The code above imports numpy as a variable named `np`. We can use this variables to access the functionality of NumPy.  The above is what we will use for the rest of this class.\n",
    "\n",
    "You may be wondering why we didn't import numpy like this:  \n",
    "```python\n",
    "import numpy\n",
    "```\n",
    "We could, but the first is far more commonly seen, and allows us to the `np` variable to access the functions and variables of the NumPy package. This makes the code more readable because it is not a mystery where the functions come from that we are using."
   ]
  },
  {
   "cell_type": "markdown",
   "metadata": {},
   "source": [
    "## 1. The NumPy Array\n",
    "### 1.1. Learning\n",
    "What is an array?  An array is a data structure that stores one or more objects of the same type (e.g. integers, strings, etc.) and can be multi-dimensional (e.g. 2D matricies). In python, the list data type provides this type of functionality, however, it lacks important operations that make it useful for scientific computing.  Therefore, NumPy is a Python package that defines N-dimensional arrays and provides support for linear algebra, and other fucntions useful to scientific computing.\n",
    "\n",
    "From the Numpy QuickStart Tutorial: \n",
    "> NumPy’s main object is the homogeneous multidimensional array. It is a table of elements (usually numbers), all of the same type, indexed by a tuple of positive integers. In NumPy dimensions are called axes. \n",
    "\n",
    "<div class=\"alert alert-warning\">\n",
    "    <b>Note</b>:  a \"tuple\" is a list of numbers. For example, the pair of numbers surrounded by parentheses: (2,4), is a tuple containing two numbers.\n",
    "</div>\n",
    "\n",
    "NumPy arrays can be visualized in the following way:\n",
    "\n",
    "<img src=\"./media/A01-content_arrays-axes.png\">\n",
    "\n",
    "(image source: https://www.datacamp.com/community/tutorials/python-numpy-tutorial)"
   ]
  },
  {
   "cell_type": "markdown",
   "metadata": {},
   "source": [
    "Using built-in Python lists, arrays are created in the following way:\n",
    "\n",
    "```python\n",
    "# A 1-dimensional list of numbers.\n",
    "my_array = [1,2,3]  \n",
    "\n",
    "# A 2-dimensional list of numbers.\n",
    "my_2d_array = [[1,2,3],[4,5,6]]\n",
    "\n",
    "# A 3-dimensional list of numbers.\n",
    "my_3d_array = [[[1,2,3], [4,5,6]], [[7,8,9], [10,11,12]]]\n",
    "\n",
    "# Two lists of boolean values\n",
    "a = [True, True, False, False]\n",
    "b = [False, False, True, True]\n",
    "\n",
    "```"
   ]
  },
  {
   "cell_type": "markdown",
   "metadata": {},
   "source": [
    "Using NumPy, arrays are created using the `np.array()` function. For example, arrays with the same contents as above are created in the following way:\n",
    "\n",
    "```python\n",
    "# A 1-dimensional list of numbers.\n",
    "my_array = np.array([1,2,3,4])\n",
    "\n",
    "# A 2-dimensional list of numbers.\n",
    "my_2d_array = np.array([[1,2,3,4], [5,6,7,8]])\n",
    "\n",
    "# A 3-dimensional list of numbers.\n",
    "my_3d_array = np.array([[[1,2,3,4], [5,6,7,8]], [[1,2,3,4], [9,10,11,12]]])\n",
    "\n",
    "# Two lists of boolean values\n",
    "a = np.array([True,True,False,False])\n",
    "b = np.array([False,False,True,True])\n",
    "```\n",
    "\n",
    "In NumPy, these arrays are an object of type `ndarray`.  You can learn more about the `ndarray` class on the [NumPy ndarray introduction page](https://docs.scipy.org/doc/numpy/reference/arrays.ndarray.html). However, this tutorial will walk you through some of the most important attributes, functions and uses of NumPy."
   ]
  },
  {
   "cell_type": "markdown",
   "metadata": {},
   "source": [
    "### 1.2. <i class=\"fas fa-puzzle-piece\"></i> Practice\n",
    "\n",
    "Perform the following in the cell below.  \n",
    "- Create a 1-dimensional numpy array and print it.\n",
    "- Create a 2-dimensional numpy array and print it.\n",
    "- Create a 3-dimensional numpy array and print it."
   ]
  },
  {
   "cell_type": "code",
   "execution_count": 3,
   "metadata": {},
   "outputs": [],
   "source": [
    "Array_1D = np.array([4,6,3,2,5])"
   ]
  },
  {
   "cell_type": "code",
   "execution_count": 5,
   "metadata": {},
   "outputs": [],
   "source": [
    "Array_2D = np.array([[76,34,2,6,22], [18,34,5,72,10]])"
   ]
  },
  {
   "cell_type": "code",
   "execution_count": 7,
   "metadata": {},
   "outputs": [],
   "source": [
    "Array_3D = np.array([[[1,3,5],[7,9,11]],[[2,10,5],[4,6,8]]])"
   ]
  },
  {
   "cell_type": "markdown",
   "metadata": {},
   "source": [
    "## 2. Array Attributes\n",
    "### 2.1. Learning \n",
    "For this section we will retrieve information about the arrays. Once an array is created you can access information about the array such as the number of dimensions, its shape, its size, the data type that it stores, and the number of bytes it is consuming. There are a variety of attributes you can use such as:\n",
    "+ `ndim`\n",
    "+ `shape`\n",
    "+ `size`\n",
    "+ `dtype`\n",
    "+ `itemsize`\n",
    "+ `data`\n",
    "+ `nbytes`\n",
    "\n",
    "For example, to get the number of dimensions for an array:\n",
    "```Python\n",
    "# Print the number of dimensions for the array:\n",
    "print(my_3d_array.ndim)\n",
    "```\n",
    "\n",
    "You can learn more about these attributes, and others from the [NumPy ndarray reference page](https://docs.scipy.org/doc/numpy/reference/generated/numpy.ndarray.html) if you need help understanding the attributes.\n",
    "\n",
    "Notice that we use dot notation to access these attributes, yet we do not provide the parenthesis `()` like we would for a function call.  This is because we are accessing attributes (i.e. member variables) of the numpy object, we are not calling a function"
   ]
  },
  {
   "cell_type": "markdown",
   "metadata": {},
   "source": [
    "### 2.1. <i class=\"fas fa-puzzle-piece\"></i> Practice\n",
    "\n",
    "\n",
    "\n",
    "In the cell below, perform the following.\n",
    "\n",
    "- Create a NumPy array.\n",
    "- Write code that prints these attributes (one per line): `ndim`, `shape`, `size`, `dtype`, `itemsize`, `data`, `nbytes`.\n",
    "- Add a comment line, before each line describing what value the attribute returns. \n"
   ]
  },
  {
   "cell_type": "code",
   "execution_count": 10,
   "metadata": {},
   "outputs": [
    {
     "name": "stdout",
     "output_type": "stream",
     "text": [
      "2\n",
      "(2, 3)\n",
      "6\n",
      "int32\n",
      "4\n",
      "<memory at 0x000001DEEB29D790>\n",
      "24\n"
     ]
    }
   ],
   "source": [
    "my_numpy = np.array([[17,21,23],[18,22,24]])\n",
    "\n",
    "# ndim will return the dimension of the my_numpy array, which is 2\n",
    "print(my_numpy.ndim)\n",
    "\n",
    "# shape will return the current shape (tuples) of the array, which is two list consitsting of 3 numbers each (2,3)\n",
    "print(my_numpy.shape)\n",
    "\n",
    "# size will return the number of elements that are in the array, which is 6\n",
    "print(my_numpy.size)\n",
    "\n",
    "# dtype will return the data type of the elements in the array, which are integers (Int32)\n",
    "print(my_numpy.dtype)\n",
    "\n",
    "# itemsize will return the size of one element in the array in bytes, which is 4 for int 32-bit\n",
    "print(my_numpy.itemsize)\n",
    "\n",
    "# data will return the starting point of the array data\n",
    "print(my_numpy.data)\n",
    "\n",
    "# nbytes will return the size in bytes of all elements in the array, which is 24\n",
    "print(my_numpy.nbytes)"
   ]
  },
  {
   "cell_type": "markdown",
   "metadata": {
    "tags": []
   },
   "source": [
    "## 3. Creating Initialized Arrays\n",
    "### 3.1. Learning\n",
    "\n",
    "Here we will learn to create initialized arrays. These arrays are pre-initalized with default values.  NumPy provides a variety of functions for creating and intializing an array in easy-to-use functions. Some of these include: \n",
    "\n",
    "+ [np.ones()](https://docs.scipy.org/doc/numpy/reference/generated/numpy.ones.html#numpy.ones): Returns a new array of given shape and type, filled with ones.\n",
    "+ [np.zeroes()](https://docs.scipy.org/doc/numpy/reference/generated/numpy.zeros.html#numpy.zeros): Returns a new array of given shape and type, filled with zeros.\n",
    "+ [np.empty()](https://docs.scipy.org/doc/numpy/reference/generated/numpy.empty.html#numpy.empty): Return a new array of given shape and type, without initializing entries.\n",
    "+ [np.full()](https://docs.scipy.org/doc/numpy/reference/generated/numpy.full.html#numpy.full): Returns a new array of given shape and type, filled with a given fill value.\n",
    "+ [np.arange()](https://docs.scipy.org/doc/numpy/reference/generated/numpy.arange.html#numpy.arange): Returns a new array of evenly spaced values within a given interval.\n",
    "+ [np.linspace()](https://docs.scipy.org/doc/numpy/reference/generated/numpy.linspace.html#numpy.linspace): Returns a new array of evenly spaced numbers over a specified interval.\n",
    "+ [np.random.random](https://docs.scipy.org/doc/numpy-1.14.0/reference/generated/numpy.random.random.html): Can be used to return a single random value or an array of random values between 0 and 1.\n",
    "\n",
    "Take a moment, to learn more about the functions listed above by clicking on the function name as it links to the NumPy documentation.  Pay attention to the arguments that each receives and the type of output (i.e array) it generates.\n",
    "\n",
    "NumPy has a large list of array creation functions, you can learn more about these functions on the [array creation routins page](https://docs.scipy.org/doc/numpy/reference/routines.array-creation.html) of the NumPy documentation. \n",
    "\n",
    "To demonstrate the use of these functions, the following code will create a two-dimensional array with 3 rows and 4 columns (i.e 3 *x* 4) filled with 0's.  \n",
    "\n",
    "```Python\n",
    "zeros = np.zeros((3, 4))\n",
    "```\n",
    "\n",
    "The following creates a 1D array of values between 3 and 7\n",
    "\n",
    "```Python\n",
    "np.arange(3, 7)\n",
    "```\n",
    "The result is: `array([3, 4, 5, 6])`\n",
    "\n",
    "The following creates a 1D array of values between 0 and 10 spaced every 2 integers:\n",
    "\n",
    "```Python\n",
    "np.arange(0, 10, 2)\n",
    "```\n",
    "The result is: `array([0, 2, 4, 6, 8])`\n",
    "\n",
    "Notice that just like with Python list slicing, the range uncludes up-to, but not including the \"stop\" value of the range.\n"
   ]
  },
  {
   "cell_type": "markdown",
   "metadata": {},
   "source": [
    "### 3.1. <i class=\"fas fa-puzzle-piece\"></i> Practice\n",
    "\n",
    "In the cell below notebook, perform the following.\n",
    "\n",
    "+ Create an initialized array by using these functions:  `ones`, `zeros`, `empty`, `full`, `arange`, `linspace` and `random.random`. Be sure to follow each array creation with a call to `print()` to display your newly created arrays. \n",
    "+ Add a comment above each function call describing what is being done.  "
   ]
  },
  {
   "cell_type": "code",
   "execution_count": 40,
   "metadata": {},
   "outputs": [
    {
     "name": "stdout",
     "output_type": "stream",
     "text": [
      "[[1 1 1]\n",
      " [1 1 1]\n",
      " [1 1 1]]\n",
      " \n",
      "[[0 0 0 0]\n",
      " [0 0 0 0]\n",
      " [0 0 0 0]]\n",
      " \n",
      "[[2.12199579e-314 4.67296746e-307]\n",
      " [7.80623720e-321 3.79442416e-321]]\n",
      " \n",
      "[[5 5 5]\n",
      " [5 5 5]]\n",
      " \n",
      "[20 22 24 26 28]\n",
      " \n",
      "[ 0.          0.68965517  1.37931034  2.06896552  2.75862069  3.44827586\n",
      "  4.13793103  4.82758621  5.51724138  6.20689655  6.89655172  7.5862069\n",
      "  8.27586207  8.96551724  9.65517241 10.34482759 11.03448276 11.72413793\n",
      " 12.4137931  13.10344828 13.79310345 14.48275862 15.17241379 15.86206897\n",
      " 16.55172414 17.24137931 17.93103448 18.62068966 19.31034483 20.        ]\n",
      " \n",
      "[0.8250622  0.2471342  0.41549759 0.09119393 0.58288117 0.85489475\n",
      " 0.78601349 0.01789158 0.28692283 0.42779932]\n"
     ]
    }
   ],
   "source": [
    "# Initilizing a 3x3 2D array filled with ones by using the np.ones() fucntion and inputting dimensions\n",
    "ones_array = np.ones((3,3), dtype=int)\n",
    "print(ones_array) # printing the array\n",
    "print(' ') #putting space between arrays \n",
    "\n",
    "# Initilizing a 2x3x4 2D array filled with zeros by using the np.zeros function and inputting dimensions \n",
    "zeros_array=np.zeros((3,4), dtype=int)\n",
    "print(zeros_array) # printing the array\n",
    "print(' ') #putting space between arrays \n",
    "\n",
    "# Initilizing an empty 2x2 2D array by using the np.empty() function and inputting dimensions\n",
    "empty_array=np.empty((2,2))\n",
    "print(empty_array)\n",
    "print(' ') #putting space between arrays\n",
    "\n",
    "# Initilizing a 2x3 2D array filled with the integer value 5 \n",
    "# by using np.full() function and inputting dimensions and fill value\n",
    "full_array=np.full((2,3), 5, dtype=int)\n",
    "print(full_array)\n",
    "print(' ') #putting space between arrays\n",
    "\n",
    "# Initilizing a 1x3 1D array with increments of 2 from a range of 20 to 30\n",
    "# by using the np.arrange() function and inputting the start and stop value as well as the increment value\n",
    "aranged_array=np.arange(20,30,2)\n",
    "print(aranged_array)\n",
    "print(' ') #putting space between arrays\n",
    "\n",
    "# Initilizing an array from an interval of 0 to 20 with even spacing \n",
    "# by using the np.linespace() function and inputting the stop and start as well as the number of values to generate\n",
    "linspace_array=np.linspace(0,20, num=30)\n",
    "print(linspace_array)\n",
    "print(' ') #putting space between arrays\n",
    "\n",
    "# Using np.random.random to generate an array of 10 values from the interval 0.0 to 1.0\n",
    "random=np.random.random(size=10)\n",
    "print(random)"
   ]
  },
  {
   "cell_type": "markdown",
   "metadata": {},
   "source": [
    "## 4. Performing Math and Broadcasting\n",
    "### 4.1. Learning\n",
    "\n",
    "At times you may want to apply mathematical operations between arrays. For example, suppose you wanted to add, multiply or divide the contents of two arrays.  If the two arrays are the same size this is straightfoward. However if the arrays are not the same size then it is more challenging.  This is where Broadcasting comes to play:\n",
    "\n",
    "> The term broadcasting describes how numpy treats arrays with different shapes during arithmetic operations. Subject to certain constraints, the smaller array is “broadcast” across the larger array so that they have compatible shapes. (https://docs.scipy.org/doc/numpy/user/basics.broadcasting.html)\n"
   ]
  },
  {
   "cell_type": "markdown",
   "metadata": {},
   "source": [
    "#### 4.1.1. Arrays of the same size\n",
    "To demonstrate math with arrays of the same size, the following cell contains code that creates two arrays of the exact same size: _3 x 4_.  Execute the cell to create those arrays:"
   ]
  },
  {
   "cell_type": "code",
   "execution_count": 41,
   "metadata": {},
   "outputs": [
    {
     "name": "stdout",
     "output_type": "stream",
     "text": [
      "demo_a shape: (3, 4)\n",
      "demo_b Shape: (3, 4)\n"
     ]
    }
   ],
   "source": [
    "# Define demo arrays:\n",
    "demo_a = np.ones((3,4))\n",
    "demo_b = np.random.random((3,4))\n",
    "\n",
    "# Print the shapes of each array.\n",
    "print(f\"demo_a shape: {demo_a.shape}\")\n",
    "print(f\"demo_b Shape: {demo_b.shape}\")"
   ]
  },
  {
   "cell_type": "markdown",
   "metadata": {},
   "source": [
    "Let's print the array to see what they contain:"
   ]
  },
  {
   "cell_type": "code",
   "execution_count": 42,
   "metadata": {},
   "outputs": [
    {
     "name": "stdout",
     "output_type": "stream",
     "text": [
      "[[1. 1. 1. 1.]\n",
      " [1. 1. 1. 1.]\n",
      " [1. 1. 1. 1.]]\n",
      "[[0.73897696 0.43678553 0.03711184 0.13393322]\n",
      " [0.41482016 0.60495224 0.26350562 0.44621326]\n",
      " [0.81340721 0.17592202 0.60951978 0.6786263 ]]\n"
     ]
    }
   ],
   "source": [
    "print(demo_a)\n",
    "print(demo_b)"
   ]
  },
  {
   "cell_type": "markdown",
   "metadata": {},
   "source": [
    "Because these arrays are the same size we can perform basic math by using common arithamtic symbols. Exectue the following cell to see the results of adding the two demo arrays:"
   ]
  },
  {
   "cell_type": "code",
   "execution_count": 43,
   "metadata": {},
   "outputs": [
    {
     "data": {
      "text/plain": [
       "array([[1.73897696, 1.43678553, 1.03711184, 1.13393322],\n",
       "       [1.41482016, 1.60495224, 1.26350562, 1.44621326],\n",
       "       [1.81340721, 1.17592202, 1.60951978, 1.6786263 ]])"
      ]
     },
     "execution_count": 43,
     "metadata": {},
     "output_type": "execute_result"
    }
   ],
   "source": [
    "# These arrays have the same shape, \n",
    "demo_a + demo_b"
   ]
  },
  {
   "cell_type": "markdown",
   "metadata": {},
   "source": [
    "The addition resulted in the corresponding positions in each matrix being added to the other and creating a new matrix.  If you need clarification for how two matricies can be added or subtracted see the [Purple Math](https://www.purplemath.com/modules/mtrxadd.htm) site for examples."
   ]
  },
  {
   "cell_type": "markdown",
   "metadata": {},
   "source": [
    "#### 4.1.2. Broadcasting for Arrays of Different Sizes\n",
    "When arrays are not the same size, you cannot perform simple math.  For this, NumPy provides a service known as \"broadcasting\". To broadcast, NumPy automatically resizes the arrays to match, and fills in newly created empty cells with values.\n",
    "\n",
    "To Broadcast, NumPy begins at the right-most dimensions of the array and comparses them then moves left and compares the next set. As long as each set meet the following criteria, Broadcasting can be performed:\n",
    "\n",
    "+  The dimensions are equal or\n",
    "+  One of the dimensions is 1.\n",
    "\n",
    "Consider two arrays of the following dimensions:\n",
    "\n",
    "+ 4D array 1:  10 x 1 x 3 x 1\n",
    "+ 3D array 2:       2 x 1 x 9\n",
    "\n",
    "These arrays are not the same size, but they are compatible with broadcasting because at each diemsion (from right to left) the dimension crtieria is met. When performing math, the value in each dimension of size 1 is broadcast to fill that dimesion (an example is provided below). The resulting array, if the above arrays are added, will be broadcasted to a size of _10 x 2 x 3 x 9_"
   ]
  },
  {
   "cell_type": "markdown",
   "metadata": {},
   "source": [
    "To demonstrate math with arrays of different size, the following cell contains code that creates two arrays: one of size _3 x 4_ and onther of size _4 x 1_.  Execute the cell to create those arrays:"
   ]
  },
  {
   "cell_type": "code",
   "execution_count": 44,
   "metadata": {},
   "outputs": [
    {
     "name": "stdout",
     "output_type": "stream",
     "text": [
      "demo_c shape: (3, 4)\n",
      "demo_d Shape: (4,)\n"
     ]
    }
   ],
   "source": [
    "# Create the arrays.\n",
    "demo_c = np.ones((3,4))\n",
    "demo_d = np.arange(4)\n",
    "\n",
    "# Print the array shapes.\n",
    "print(f\"demo_c shape: {demo_c.shape}\")\n",
    "print(f\"demo_d Shape: {demo_d.shape}\")"
   ]
  },
  {
   "cell_type": "markdown",
   "metadata": {},
   "source": [
    "Let's print the array to see what they contain:"
   ]
  },
  {
   "cell_type": "code",
   "execution_count": 45,
   "metadata": {},
   "outputs": [
    {
     "name": "stdout",
     "output_type": "stream",
     "text": [
      "[[1. 1. 1. 1.]\n",
      " [1. 1. 1. 1.]\n",
      " [1. 1. 1. 1.]]\n",
      "[0 1 2 3]\n"
     ]
    }
   ],
   "source": [
    "print(demo_c)\n",
    "print(demo_d)"
   ]
  },
  {
   "cell_type": "markdown",
   "metadata": {},
   "source": [
    "Because these arrays meet our brodcasting requirements, we can perform basic math by using common arithamtic symbols. Exectue the following cell to see the results of adding the two demo arrays:"
   ]
  },
  {
   "cell_type": "code",
   "execution_count": 46,
   "metadata": {},
   "outputs": [
    {
     "data": {
      "text/plain": [
       "array([[1., 2., 3., 4.],\n",
       "       [1., 2., 3., 4.],\n",
       "       [1., 2., 3., 4.]])"
      ]
     },
     "execution_count": 46,
     "metadata": {},
     "output_type": "execute_result"
    }
   ],
   "source": [
    "demo_c + demo_d"
   ]
  },
  {
   "cell_type": "markdown",
   "metadata": {},
   "source": [
    "The addition resulted in the value in each dimension of size 1, being \"broadcast\" or \"streched\" throughout that dimesion and then used in the operation. "
   ]
  },
  {
   "cell_type": "markdown",
   "metadata": {},
   "source": [
    "#### 4.1.3. Broadcasting With Higher Dimensions"
   ]
  },
  {
   "cell_type": "markdown",
   "metadata": {},
   "source": [
    "Consider the following arrays of 2 and 3 dimensions. "
   ]
  },
  {
   "cell_type": "code",
   "execution_count": 47,
   "metadata": {},
   "outputs": [
    {
     "name": "stdout",
     "output_type": "stream",
     "text": [
      "demo_e shape: (3, 4)\n",
      "demo_f shape: (5, 1, 4)\n"
     ]
    }
   ],
   "source": [
    "demo_e = np.ones((3, 4))\n",
    "demo_f = np.random.random((5, 1, 4))\n",
    "print(f\"demo_e shape: {demo_e.shape}\")\n",
    "print(f\"demo_f shape: {demo_f.shape}\")"
   ]
  },
  {
   "cell_type": "markdown",
   "metadata": {},
   "source": [
    "Print the arrays to see what they contain:"
   ]
  },
  {
   "cell_type": "code",
   "execution_count": 48,
   "metadata": {},
   "outputs": [
    {
     "name": "stdout",
     "output_type": "stream",
     "text": [
      "[[1. 1. 1. 1.]\n",
      " [1. 1. 1. 1.]\n",
      " [1. 1. 1. 1.]]\n",
      "[[[0.1365032  0.28776001 0.88686875 0.27332387]]\n",
      "\n",
      " [[0.86312152 0.64527287 0.79016618 0.80195797]]\n",
      "\n",
      " [[0.59804958 0.9106744  0.84311757 0.16658795]]\n",
      "\n",
      " [[0.41144806 0.51088797 0.2474723  0.79028802]]\n",
      "\n",
      " [[0.55869463 0.4109261  0.45702385 0.5255435 ]]]\n"
     ]
    }
   ],
   "source": [
    "print(demo_e)\n",
    "print(demo_f)"
   ]
  },
  {
   "cell_type": "markdown",
   "metadata": {},
   "source": [
    "These two arrays meet the rules for broadcasting becuase they both have a 4 in their last dimension and there is a 1 in the  `demo_f` 2nd dimension.  \n",
    "\n",
    "Perform the math by executing the following cell:"
   ]
  },
  {
   "cell_type": "code",
   "execution_count": 49,
   "metadata": {},
   "outputs": [
    {
     "name": "stdout",
     "output_type": "stream",
     "text": [
      "[[[1.1365032  1.28776001 1.88686875 1.27332387]\n",
      "  [1.1365032  1.28776001 1.88686875 1.27332387]\n",
      "  [1.1365032  1.28776001 1.88686875 1.27332387]]\n",
      "\n",
      " [[1.86312152 1.64527287 1.79016618 1.80195797]\n",
      "  [1.86312152 1.64527287 1.79016618 1.80195797]\n",
      "  [1.86312152 1.64527287 1.79016618 1.80195797]]\n",
      "\n",
      " [[1.59804958 1.9106744  1.84311757 1.16658795]\n",
      "  [1.59804958 1.9106744  1.84311757 1.16658795]\n",
      "  [1.59804958 1.9106744  1.84311757 1.16658795]]\n",
      "\n",
      " [[1.41144806 1.51088797 1.2474723  1.79028802]\n",
      "  [1.41144806 1.51088797 1.2474723  1.79028802]\n",
      "  [1.41144806 1.51088797 1.2474723  1.79028802]]\n",
      "\n",
      " [[1.55869463 1.4109261  1.45702385 1.5255435 ]\n",
      "  [1.55869463 1.4109261  1.45702385 1.5255435 ]\n",
      "  [1.55869463 1.4109261  1.45702385 1.5255435 ]]]\n"
     ]
    }
   ],
   "source": [
    "result = demo_e + demo_f\n",
    "print(result)"
   ]
  },
  {
   "cell_type": "markdown",
   "metadata": {},
   "source": [
    "The resulting array has dimensions of _5 x 3 x 4_.  For this math to work, the values from `demo_f` had to be \"stretched\" (i.e. copied and then added) in the second dimension"
   ]
  },
  {
   "cell_type": "markdown",
   "metadata": {},
   "source": [
    "### 4.2. <i class=\"fas fa-puzzle-piece\"></i> Practice\n",
    "\n",
    "In the cell below notebook, perform the following.\n",
    "\n",
    "+ Create two arrays of differing sizes but compatible with broadcasting.\n",
    "+ Perform addition, multiplication and subtraction.\n",
    "+ Create two additional arrays of differing size that do not meet the rules for broadcasting and try a mathematical operation.  "
   ]
  },
  {
   "cell_type": "code",
   "execution_count": 59,
   "metadata": {},
   "outputs": [
    {
     "name": "stdout",
     "output_type": "stream",
     "text": [
      "[[0.78372256 0.66570335 0.74519252]]\n",
      " \n",
      "[[[0.51694031 0.636986   0.95598633]]\n",
      "\n",
      " [[0.77095362 0.55888631 0.42531739]]]\n",
      " \n",
      "Addition:\n",
      "[[[1.30066287 1.30268934 1.70117885]]\n",
      "\n",
      " [[1.55467617 1.22458966 1.17050991]]]\n",
      " \n",
      "Multiplication:\n",
      "[[[0.40513778 0.42404371 0.71239386]]\n",
      "\n",
      " [[0.60421374 0.37205249 0.31694334]]]\n",
      " \n",
      "Subtraction:\n",
      "[[[-0.26678225 -0.02871735  0.21079381]]\n",
      "\n",
      " [[-0.01276894 -0.10681703 -0.31987513]]]\n"
     ]
    }
   ],
   "source": [
    "# Two differing size arrays that are compatible for broadcasting\n",
    "Array1=np.random.random((1,3))\n",
    "Array2=np.random.random((2,1,3))\n",
    "\n",
    "print(Array1)\n",
    "print(' ') # space to separate arrays\n",
    "print(Array2)\n",
    "print(' ') # space to separate arrays\n",
    "\n",
    "# Adding the arrays together\n",
    "Sum=Array1+Array2\n",
    "print('Addition:')\n",
    "print(Sum)\n",
    "print(' ') # space to separate arrays\n",
    "\n",
    "# Product of the arrays (multiplication)\n",
    "product=Array1*Array2\n",
    "print('Multiplication:')\n",
    "print(product)\n",
    "print(' ') # space to separate arrays\n",
    "\n",
    "# Subtracting array 1 from array 2\n",
    "difference=Array2-Array1\n",
    "print('Subtraction:')\n",
    "print(difference)"
   ]
  },
  {
   "cell_type": "code",
   "execution_count": 60,
   "metadata": {},
   "outputs": [
    {
     "name": "stdout",
     "output_type": "stream",
     "text": [
      "[[0.07796888 0.53760158 0.61930254]\n",
      " [0.1145268  0.1041681  0.92673122]]\n",
      " \n",
      "[[[0.58042415 0.41985545 0.93132881 0.45080016]\n",
      "  [0.44515835 0.88485399 0.30010104 0.29148084]]]\n"
     ]
    },
    {
     "ename": "ValueError",
     "evalue": "operands could not be broadcast together with shapes (2,3) (1,2,4) ",
     "output_type": "error",
     "traceback": [
      "\u001b[1;31m---------------------------------------------------------------------------\u001b[0m",
      "\u001b[1;31mValueError\u001b[0m                                Traceback (most recent call last)",
      "\u001b[1;32m~\\AppData\\Local\\Temp\\ipykernel_8384\\22557032.py\u001b[0m in \u001b[0;36m<module>\u001b[1;34m\u001b[0m\n\u001b[0;32m      8\u001b[0m \u001b[1;33m\u001b[0m\u001b[0m\n\u001b[0;32m      9\u001b[0m \u001b[1;31m# Adding the arrays together\u001b[0m\u001b[1;33m\u001b[0m\u001b[1;33m\u001b[0m\u001b[0m\n\u001b[1;32m---> 10\u001b[1;33m \u001b[0mSum\u001b[0m\u001b[1;33m=\u001b[0m\u001b[0mArray1\u001b[0m\u001b[1;33m+\u001b[0m\u001b[0mArray2\u001b[0m\u001b[1;33m\u001b[0m\u001b[1;33m\u001b[0m\u001b[0m\n\u001b[0m\u001b[0;32m     11\u001b[0m \u001b[0mprint\u001b[0m\u001b[1;33m(\u001b[0m\u001b[1;34m'Addition:'\u001b[0m\u001b[1;33m)\u001b[0m\u001b[1;33m\u001b[0m\u001b[1;33m\u001b[0m\u001b[0m\n\u001b[0;32m     12\u001b[0m \u001b[0mprint\u001b[0m\u001b[1;33m(\u001b[0m\u001b[0mSum\u001b[0m\u001b[1;33m)\u001b[0m\u001b[1;33m\u001b[0m\u001b[1;33m\u001b[0m\u001b[0m\n",
      "\u001b[1;31mValueError\u001b[0m: operands could not be broadcast together with shapes (2,3) (1,2,4) "
     ]
    }
   ],
   "source": [
    "# Two differing size arrays that are NOT compatible for broadcasting\n",
    "Array1=np.random.random((2,3))\n",
    "Array2=np.random.random((1,2,4))\n",
    "\n",
    "print(Array1)\n",
    "print(' ') # space to separate arrays\n",
    "print(Array2)\n",
    "\n",
    "# Adding the arrays together\n",
    "Sum=Array1+Array2\n",
    "print('Addition:')\n",
    "print(Sum)\n",
    "\n",
    "# Product of the arrays (multiplication)\n",
    "product=Array1*Array2\n",
    "print('Multiplication:')\n",
    "print(product)\n",
    "\n",
    "# Subtracting array 1 from array 2\n",
    "difference=Array2-Array1\n",
    "print('Subtraction:')\n",
    "print(difference)"
   ]
  },
  {
   "cell_type": "markdown",
   "metadata": {},
   "source": [
    "## 5. NumPy Aggregate Functions\n",
    "### 5.1. Learning\n",
    "\n",
    "NumPy also provides a variety of functions that \"aggregate\" data. Examples of aggreagation of data include calculating the sum of every element in the array, calculating the mean, standard deviation, etc.  Below are a few examples of aggregation functions provided by NumPy.\n",
    "\n",
    "#### 5.1.1 Mathematical Functions\n",
    "+ [np.sum()](https://docs.scipy.org/doc/numpy/reference/generated/numpy.sum.html): sums the array elements over a given axis\n",
    "+ [np.minimum()](https://docs.scipy.org/doc/numpy/reference/generated/numpy.minimum.html#numpy.minimum): compares two arrays and returns a new array of the minimum at each position (i.e. element-wise)\n",
    "+ [np.maximum()](https://docs.scipy.org/doc/numpy/reference/generated/numpy.maximum.html#numpy.maximum): compares two arrays and returns a new array of the maximum at each position (i.e. element-wise).\n",
    "+ [np.cumsum()](https://docs.scipy.org/doc/numpy/reference/generated/numpy.cumsum.html#numpy.cumsum): returns the cummulative sum of the elements along a given axes.\n",
    "\n",
    "You can find more about mathematical functions for arrays at the [Numpy mathematical functions page](https://docs.scipy.org/doc/numpy/reference/routines.math.html).\n",
    "\n",
    "#### 5.1.2 Statistics\n",
    "+ [np.mean()](https://docs.scipy.org/doc/numpy/reference/generated/numpy.mean.html): compute the arithmetic mean along the specified axis.\n",
    " [np.median()](https://docs.scipy.org/doc/numpy/reference/generated/numpy.median.html#numpy.median): compute the median along the specified axis.\n",
    "+ [np.corrcoef()](https://docs.scipy.org/doc/numpy/reference/generated/numpy.corrcoef.html#numpy.corrcoef): return Pearson product-moment correlation coefficients between two 1D arrays or one 2D array.\n",
    "+ [np.std()](https://docs.scipy.org/doc/numpy/reference/generated/numpy.std.html#numpy.std): compute the standard deviation along the specified axis.\n",
    "+ [np.var()](https://docs.scipy.org/doc/numpy/reference/generated/numpy.var.html#numpy.var): compute the variance along the specified axis.\n",
    "\n",
    "You can find more about statistical functions for arrays at the [Numpy statistical functions page](https://docs.scipy.org/doc/numpy/reference/routines.statistics.html).\n",
    "\n",
    "\n",
    "Take a moment, to learn more about the functions listed above by clicking on the function name as it links to the NumPy documentation.  Pay attention to the arguments that each receives and the type of output it generates.\n",
    "\n",
    "For example:\n",
    "```Python\n",
    "# Calculate the sum of our demo data from above\n",
    "np.sum(demo_e)\n",
    "```\n"
   ]
  },
  {
   "cell_type": "code",
   "execution_count": 61,
   "metadata": {},
   "outputs": [
    {
     "data": {
      "text/plain": [
       "12.0"
      ]
     },
     "execution_count": 61,
     "metadata": {},
     "output_type": "execute_result"
    }
   ],
   "source": [
    "# Calculate the sum of our demo data from above\n",
    "np.sum(demo_e)"
   ]
  },
  {
   "cell_type": "markdown",
   "metadata": {},
   "source": [
    "#### 5.1.3 Logical Aggregate Functions\n",
    "When arrays contain boolean values there are additional logical aggregation functions you can use: \n",
    "\n",
    " + [logical_and()](https://docs.scipy.org/doc/numpy/reference/generated/numpy.logical_and.html#numpy.logical_and): computes the element-wise truth value of two arrays using AND.\n",
    " + [logical_or()](https://docs.scipy.org/doc/numpy/reference/generated/numpy.logical_or.html#numpy.logical_or): computes the element-wise truth value of two arrays using OR.\n",
    " + [logical_not()](https://docs.scipy.org/doc/numpy/reference/generated/numpy.logical_not.html#numpy.logical_not):  computes the element-wise truth value of two arrays using NOT.\n",
    " \n",
    " \n",
    "You can find more about logical functions for arrays at the [Numpy Logic functions page](https://docs.scipy.org/doc/numpy/reference/routines.logic.html).\n",
    "\n",
    "Take a moment, to learn more about the functions listed above by clicking on the function name as it links to the NumPy documentation.  Pay attention to the arguments that each receives and the type of output it generates.\n",
    "\n",
    "To demonstrate usage of the logical functions, please execute the following cells and examine the results produced."
   ]
  },
  {
   "cell_type": "markdown",
   "metadata": {},
   "source": [
    "### 5.2. <i class=\"fas fa-puzzle-piece\"></i> Practice\n",
    "\n",
    "In the cell below notebook, perform the following.\n",
    "\n",
    "+ Create three to five arrays\n",
    "+ Experiment with each of the aggregation functions: `sum`, `minimum`, `maximum`, `cumsum`, `mean`, `np.corrcoef`, `np.std`, `np.var`. \n",
    "+ For each function call, add a comment line above it that describes what it does.  "
   ]
  },
  {
   "cell_type": "code",
   "execution_count": 62,
   "metadata": {},
   "outputs": [
    {
     "data": {
      "text/plain": [
       "array([ True,  True,  True,  True])"
      ]
     },
     "execution_count": 62,
     "metadata": {},
     "output_type": "execute_result"
    }
   ],
   "source": [
    "# Two lists of boolean values\n",
    "a = [True, True, False, False]\n",
    "b = [False, False, True, True]\n",
    "\n",
    "# Perform a logical \"or\":\n",
    "np.logical_or(a, b)"
   ]
  },
  {
   "cell_type": "code",
   "execution_count": 86,
   "metadata": {},
   "outputs": [
    {
     "data": {
      "text/plain": [
       "array([False, False, False, False])"
      ]
     },
     "execution_count": 86,
     "metadata": {},
     "output_type": "execute_result"
    }
   ],
   "source": [
    "# Perform a logical \"and\":\n",
    "np.logical_and(a, b)"
   ]
  },
  {
   "cell_type": "code",
   "execution_count": 87,
   "metadata": {},
   "outputs": [
    {
     "name": "stdout",
     "output_type": "stream",
     "text": [
      "practice_array1:\n",
      "[[23 18 30 25]\n",
      " [12 22 28 26]] \n",
      "\n",
      "practice_array2:\n",
      "[4 6 8 3] \n",
      "\n",
      "practice_array3:\n",
      "[[15 17 22 25]\n",
      " [16 14 22 31]] \n",
      "\n",
      "184 \n",
      "\n",
      "[[15 17 22 25]\n",
      " [12 14 22 26]] \n",
      "\n",
      "[[23 18 30 25]\n",
      " [16 22 28 31]] \n",
      "\n",
      "[ 23  41  71  96 108 130 158 184] \n",
      "\n",
      "5.25 \n",
      "\n",
      "[[1.         0.93347203]\n",
      " [0.93347203 1.        ]] \n",
      "\n",
      "5.408326913195984 \n",
      "\n",
      "3.6875\n"
     ]
    }
   ],
   "source": [
    "# 5.2 Practice\n",
    "\n",
    "# Generating the arrays\n",
    "practice_array1=np.array([[23,18,30,25],[12,22,28,26]])\n",
    "practice_array2=np.array([4,6,8,3])\n",
    "practice_array3=np.array([[15,17,22,25],[16,14,22,31]])\n",
    "print('practice_array1:')\n",
    "print(practice_array1, '\\r\\n')\n",
    "print('practice_array2:')\n",
    "print(practice_array2, '\\r\\n')\n",
    "print('practice_array3:')\n",
    "print(practice_array3, '\\r\\n')\n",
    "\n",
    "\n",
    "# Calling the sum function: sums the elements in an array in a given axis\n",
    "# Axis not given so it is summing all of the elements in practice_array1\n",
    "sum_p1_array=practice_array1.sum()\n",
    "print(sum_p1_array, '\\r\\n')\n",
    "\n",
    "# Calling the minimum function: outputs a new array from the input of two arrays\n",
    "# Output will be same dimension with the minimum between the two arrays\n",
    "minimum_array=np.minimum(practice_array1,practice_array3)\n",
    "print(minimum_array, '\\r\\n')\n",
    "\n",
    "# Calling the maximum function: outputs a new array from the input of two arrays\n",
    "# Output will be same dimension with the maximum between the two arrays\n",
    "maximum_array=np.maximum(practice_array1,practice_array3)\n",
    "print(maximum_array, '\\r\\n')\n",
    "\n",
    "# Calling cumsum function: function output a new array that is the cumulative sum of the elements over a given axis\n",
    "# No axis was given so the operation is performed on the entirety of the array\n",
    "cumsum_array=practice_array1.cumsum()\n",
    "print(cumsum_array, '\\r\\n')\n",
    "\n",
    "# Calling mean function: Outputs the mean of the specific axis given\n",
    "# No axis given, so mean caluclated for the entirey of the array \n",
    "p_array2_mean=practice_array2.mean()\n",
    "print(p_array2_mean, '\\r\\n')\n",
    "\n",
    "# Calling np.corrcoef function: outputs the corresponding pearson correlation coefficient matrix\n",
    "correlation_matrix=np.corrcoef(practice_array3)\n",
    "print(correlation_matrix, '\\r\\n')\n",
    "\n",
    "# Calling np.std function: computes the standard deviation (sd) along a specific axis in an array\n",
    "# No axis is given so it will output the sd for the entire array\n",
    "p_array1_sd=np.std(practice_array1)\n",
    "print(p_array1_sd, '\\r\\n')\n",
    "\n",
    "# Calling np.var function: computes the variance along a specific axis in an array \n",
    "# No axis is given so it will output the sd for the entire array\n",
    "p_array2_var=np.var(practice_array2)\n",
    "print(p_array2_var)"
   ]
  },
  {
   "cell_type": "markdown",
   "metadata": {},
   "source": [
    "### 5.3. <i class=\"fas fa-puzzle-piece\"></i> Practice\n",
    "\n",
    "In the cell below notebook, perform the following.\n",
    "\n",
    "+ Create two arrays containing boolean values.\n",
    "+ Experiment with each of the aggregation functions: `logical_and`, `logical_or`, `logical_not`. \n",
    "+ For each function call, add a comment line above it that describes what it does.  "
   ]
  },
  {
   "cell_type": "code",
   "execution_count": 95,
   "metadata": {
    "tags": []
   },
   "outputs": [
    {
     "name": "stdout",
     "output_type": "stream",
     "text": [
      "boolean_array1:\n",
      "[ True  True False  True  True] \n",
      "\n",
      "boolean_array2:\n",
      "[False  True  True False False] \n",
      "\n",
      "[False  True False False False] \n",
      "\n",
      "[ True  True  True  True  True] \n",
      "\n",
      "[False False  True False False] \n",
      "\n"
     ]
    }
   ],
   "source": [
    "boolean_array1=np.array([True,True,False,True,True])\n",
    "boolean_array2=np.array([False,True,True,False,False])\n",
    "\n",
    "print('boolean_array1:')\n",
    "print(boolean_array1, '\\r\\n')\n",
    "print('boolean_array2:')\n",
    "print(boolean_array2, '\\r\\n')\n",
    "\n",
    "# Calling the logical_and function: applys the logical AND to the two arrays to compute a new array of same deminsion\n",
    "AND_array=np.logical_and(boolean_array1,boolean_array2)\n",
    "print(AND_array, '\\r\\n')\n",
    "\n",
    "# Calling the logical_or function: applys the logical OR to the two arrays to compute a new array of same deminsion\n",
    "OR_array=np.logical_or(boolean_array1,boolean_array2)\n",
    "print(OR_array, '\\r\\n')\n",
    "\n",
    "# Calling the logical_not function: applys the logical NOT to the two arrays to compute a new array of same deminsion \n",
    "NOT_array=np.logical_not(boolean_array1,boolean_array2)\n",
    "print(NOT_array, '\\r\\n')"
   ]
  },
  {
   "cell_type": "markdown",
   "metadata": {},
   "source": [
    "## Expected Outcomes\n",
    "At this point, you should feel comfortable with the following:\n",
    " - What is a NumPy array\n",
    " - Using NumPy array attributes \n",
    " - Performing broadcasting\n",
    " - Using aggregate functions\n"
   ]
  },
  {
   "cell_type": "markdown",
   "metadata": {
    "jp-MarkdownHeadingCollapsed": true,
    "tags": []
   },
   "source": [
    "## What to Turn in?\n",
    "Be sure to **commit** and **push** your changes to this notebook.  All practice exercises should be completed.  Once completed, send a **Slack message** to the instructor indicating you have completed this assignment. The instructor will verify all work is completed. "
   ]
  }
 ],
 "metadata": {
  "kernelspec": {
   "display_name": "Python 3 (ipykernel)",
   "language": "python",
   "name": "python3"
  },
  "language_info": {
   "codemirror_mode": {
    "name": "ipython",
    "version": 3
   },
   "file_extension": ".py",
   "mimetype": "text/x-python",
   "name": "python",
   "nbconvert_exporter": "python",
   "pygments_lexer": "ipython3",
   "version": "3.9.13"
  }
 },
 "nbformat": 4,
 "nbformat_minor": 4
}
